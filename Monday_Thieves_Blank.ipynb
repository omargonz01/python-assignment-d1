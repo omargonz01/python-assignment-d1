{
 "cells": [
  {
   "cell_type": "markdown",
   "metadata": {},
   "source": [
    "# Week 2 - Monday Lesson (variable assignment, loops, lists)"
   ]
  },
  {
   "cell_type": "markdown",
   "metadata": {},
   "source": [
    "## Tasks Today:\n",
    "\n",
    "1) Int & Float assignments <br>\n",
    " &nbsp;&nbsp;&nbsp;&nbsp; a) Assigning int <br>\n",
    " &nbsp;&nbsp;&nbsp;&nbsp; b) Assigning float <br>\n",
    " &nbsp;&nbsp;&nbsp;&nbsp; c) Performing Calculations on ints and floats <br>\n",
    " &nbsp;&nbsp;&nbsp;&nbsp;&nbsp;&nbsp;&nbsp;&nbsp; - Addition <br>\n",
    " &nbsp;&nbsp;&nbsp;&nbsp;&nbsp;&nbsp;&nbsp;&nbsp; - Subtraction <br>\n",
    " &nbsp;&nbsp;&nbsp;&nbsp;&nbsp;&nbsp;&nbsp;&nbsp; - Multiplication <br>\n",
    " &nbsp;&nbsp;&nbsp;&nbsp;&nbsp;&nbsp;&nbsp;&nbsp; - Division <br>\n",
    " &nbsp;&nbsp;&nbsp;&nbsp;&nbsp;&nbsp;&nbsp;&nbsp; - Floor Division <br>\n",
    " &nbsp;&nbsp;&nbsp;&nbsp;&nbsp;&nbsp;&nbsp;&nbsp; - Modulo <br>\n",
    " &nbsp;&nbsp;&nbsp;&nbsp;&nbsp;&nbsp;&nbsp;&nbsp; - Exponential <br>\n",
    "2) String Input-Output <br>\n",
    " &nbsp;&nbsp;&nbsp;&nbsp; a) String Assignment <br>\n",
    " &nbsp;&nbsp;&nbsp;&nbsp; b) print() <br>\n",
    " &nbsp;&nbsp;&nbsp;&nbsp; c) String Concatenation <br>\n",
    " &nbsp;&nbsp;&nbsp;&nbsp; d) Type Conversion <br>\n",
    " &nbsp;&nbsp;&nbsp;&nbsp; e) input() <br>\n",
    " &nbsp;&nbsp;&nbsp;&nbsp; f) format() <br>\n",
    " &nbsp;&nbsp;&nbsp;&nbsp; g) Old Way (python 2) <br>\n",
    "3) <b>In-Class Exercise #1</b> <br>\n",
    "4) If Statements <br>\n",
    " &nbsp;&nbsp;&nbsp;&nbsp; a) 'is' keyword <br>\n",
    " &nbsp;&nbsp;&nbsp;&nbsp; b) 'in' keyword <br>\n",
    " &nbsp;&nbsp;&nbsp;&nbsp; c) 'not in' keyword <br>\n",
    "5) <b>In-Class Exercise #2</b> <br>\n",
    "6) Elif Statements <br>\n",
    "7) Else Statements <br>\n",
    "8) <b>In-Class Exercise #3</b> <br>\n",
    "9) For Loops <br>\n",
    " &nbsp;&nbsp;&nbsp;&nbsp; a) Using 'in' keyword <br>\n",
    " &nbsp;&nbsp;&nbsp;&nbsp; b) Continue Statement <br>\n",
    " &nbsp;&nbsp;&nbsp;&nbsp; c) Break Statement <br>\n",
    " &nbsp;&nbsp;&nbsp;&nbsp; d) Pass Statement <br>\n",
    " &nbsp;&nbsp;&nbsp;&nbsp; e) Double For Loops <br>\n",
    "10) While Loops <br>\n",
    " &nbsp;&nbsp;&nbsp;&nbsp; a) Looping 'While True' <br>\n",
    " &nbsp;&nbsp;&nbsp;&nbsp; b) While and For Loops Used Together <br>\n",
    "11) Built-In Functions <br>\n",
    " &nbsp;&nbsp;&nbsp;&nbsp; a) range() <br>\n",
    " &nbsp;&nbsp;&nbsp;&nbsp; b) len() <br>\n",
    " &nbsp;&nbsp;&nbsp;&nbsp; c) help() <br>\n",
    " &nbsp;&nbsp;&nbsp;&nbsp; d) isinstance() <br>\n",
    " &nbsp;&nbsp;&nbsp;&nbsp; e) abs() <br>\n",
    "12) Try and Except <br>\n",
    "13) Lists <br>\n",
    " &nbsp;&nbsp;&nbsp;&nbsp; a) Declaring Lists <br>\n",
    " &nbsp;&nbsp;&nbsp;&nbsp; b) Indexing a List <br>\n",
    " &nbsp;&nbsp;&nbsp;&nbsp; c) .append() <br>\n",
    " &nbsp;&nbsp;&nbsp;&nbsp; d) .insert() <br>\n",
    " &nbsp;&nbsp;&nbsp;&nbsp; e) .pop() <br>\n",
    " &nbsp;&nbsp;&nbsp;&nbsp; f) .remove() <br>\n",
    " &nbsp;&nbsp;&nbsp;&nbsp; g) del() <br>\n",
    " &nbsp;&nbsp;&nbsp;&nbsp; h) Concatenating Two Lists <br>\n",
    " &nbsp;&nbsp;&nbsp;&nbsp; i) Lists Within Lists <br>\n",
    " &nbsp;&nbsp;&nbsp;&nbsp; j) Looping Through Lists <br>"
   ]
  },
  {
   "cell_type": "markdown",
   "metadata": {},
   "source": [
    "### Int & Float Assignments"
   ]
  },
  {
   "attachments": {},
   "cell_type": "markdown",
   "metadata": {},
   "source": [
    "##### Assigning int - Integer types are whole numbers"
   ]
  },
  {
   "cell_type": "code",
   "execution_count": 1,
   "metadata": {},
   "outputs": [
    {
     "name": "stdout",
     "output_type": "stream",
     "text": [
      "4\n"
     ]
    }
   ],
   "source": [
    "num = 4\n",
    "print(num)"
   ]
  },
  {
   "attachments": {},
   "cell_type": "markdown",
   "metadata": {},
   "source": [
    "##### Assinging float - Float types are decimals\n"
   ]
  },
  {
   "cell_type": "code",
   "execution_count": 2,
   "metadata": {},
   "outputs": [
    {
     "name": "stdout",
     "output_type": "stream",
     "text": [
      "<class 'float'>\n"
     ]
    }
   ],
   "source": [
    "afloat = 4.0\n",
    "print(type(afloat))"
   ]
  },
  {
   "cell_type": "markdown",
   "metadata": {},
   "source": [
    "#### Performing Calculations on ints and floats"
   ]
  },
  {
   "attachments": {},
   "cell_type": "markdown",
   "metadata": {},
   "source": [
    "##### Addition (+)"
   ]
  },
  {
   "cell_type": "code",
   "execution_count": 7,
   "metadata": {},
   "outputs": [
    {
     "name": "stdout",
     "output_type": "stream",
     "text": [
      "15\n",
      "11\n",
      "15.0\n",
      "20.0\n"
     ]
    }
   ],
   "source": [
    "total = 5 + 10 \n",
    "print(total)\n",
    "\n",
    "nu1 =5\n",
    "num2 =6\n",
    "total = nu1 + num2\n",
    "print(total)\n",
    "\n",
    "total = 5 + 10.0\n",
    "print(total)\n",
    "\n",
    "total += 5\n",
    "print(total)"
   ]
  },
  {
   "attachments": {},
   "cell_type": "markdown",
   "metadata": {},
   "source": [
    "##### Subtraction (-)"
   ]
  },
  {
   "cell_type": "code",
   "execution_count": 9,
   "metadata": {},
   "outputs": [
    {
     "name": "stdout",
     "output_type": "stream",
     "text": [
      "5\n",
      "5.0\n",
      "3.0\n"
     ]
    }
   ],
   "source": [
    "diff = 10 -5\n",
    "print(diff)\n",
    "\n",
    "diff = 10 - 5.0\n",
    "print(diff)\n",
    "\n",
    "diff -= 2\n",
    "print(diff)"
   ]
  },
  {
   "attachments": {},
   "cell_type": "markdown",
   "metadata": {},
   "source": [
    "##### Multiplication (*)"
   ]
  },
  {
   "cell_type": "code",
   "execution_count": 14,
   "metadata": {},
   "outputs": [
    {
     "name": "stdout",
     "output_type": "stream",
     "text": [
      "22\n",
      "74\n"
     ]
    }
   ],
   "source": [
    "prod = 11 * 2\n",
    "print(prod)\n",
    "\n",
    "prod *= 3.4\n",
    "print (int(prod))"
   ]
  },
  {
   "attachments": {},
   "cell_type": "markdown",
   "metadata": {},
   "source": [
    "##### Division (/)"
   ]
  },
  {
   "cell_type": "code",
   "execution_count": 19,
   "metadata": {},
   "outputs": [
    {
     "name": "stdout",
     "output_type": "stream",
     "text": [
      "5.0\n",
      "1.0\n"
     ]
    }
   ],
   "source": [
    "quot = 15 / 3\n",
    "print(quot)\n",
    "\n",
    "quot /= 5\n",
    "print(quot)\n"
   ]
  },
  {
   "attachments": {},
   "cell_type": "markdown",
   "metadata": {},
   "source": [
    "##### Floor Division (//) - Normal division but returns the largest possible integer\n"
   ]
  },
  {
   "cell_type": "code",
   "execution_count": 21,
   "metadata": {},
   "outputs": [
    {
     "name": "stdout",
     "output_type": "stream",
     "text": [
      "9.0\n"
     ]
    }
   ],
   "source": [
    "quot = 19 //2.0\n",
    "print(quot)"
   ]
  },
  {
   "attachments": {},
   "cell_type": "markdown",
   "metadata": {},
   "source": [
    "##### Modulo (%) - Returns the remainder of division\n"
   ]
  },
  {
   "cell_type": "code",
   "execution_count": 22,
   "metadata": {},
   "outputs": [
    {
     "name": "stdout",
     "output_type": "stream",
     "text": [
      "1\n"
     ]
    }
   ],
   "source": [
    "remainder = 10 % 3 \n",
    "print(remainder)"
   ]
  },
  {
   "attachments": {},
   "cell_type": "markdown",
   "metadata": {},
   "source": [
    "##### Exponential (**)"
   ]
  },
  {
   "cell_type": "code",
   "execution_count": 26,
   "metadata": {},
   "outputs": [
    {
     "name": "stdout",
     "output_type": "stream",
     "text": [
      "25\n",
      "5.0\n"
     ]
    }
   ],
   "source": [
    "square = 5**2\n",
    "print(square)\n",
    "\n",
    "sqroot = 25**.5\n",
    "print(sqroot)\n",
    "\n"
   ]
  },
  {
   "cell_type": "markdown",
   "metadata": {},
   "source": [
    "### String Input-Output"
   ]
  },
  {
   "cell_type": "markdown",
   "metadata": {},
   "source": [
    "##### String Assignment"
   ]
  },
  {
   "cell_type": "code",
   "execution_count": 30,
   "metadata": {},
   "outputs": [
    {
     "name": "stdout",
     "output_type": "stream",
     "text": [
      "Dylan\n",
      "gang\n",
      "gonzalez's\n"
     ]
    }
   ],
   "source": [
    "name = \"Dylan\"\n",
    "print(name)\n",
    "\n",
    "name='gang'\n",
    "print(name)\n",
    "\n",
    "last='gonzalez\\'s'\n",
    "print(last)"
   ]
  },
  {
   "cell_type": "markdown",
   "metadata": {},
   "source": [
    "##### print() <br>\n",
    "<p>Don't forget about end=' '</p>"
   ]
  },
  {
   "cell_type": "code",
   "execution_count": 35,
   "metadata": {},
   "outputs": [
    {
     "name": "stdout",
     "output_type": "stream",
     "text": [
      "this is a line\n",
      " this is another line\n"
     ]
    }
   ],
   "source": [
    "print(\"this is a line\", end='\\n ')\n",
    "print(\"this is another line\")"
   ]
  },
  {
   "cell_type": "markdown",
   "metadata": {},
   "source": [
    "##### String Concatenation"
   ]
  },
  {
   "cell_type": "code",
   "execution_count": 43,
   "metadata": {},
   "outputs": [
    {
     "name": "stdout",
     "output_type": "stream",
     "text": [
      "hello there\n",
      "hello hello hello \n"
     ]
    }
   ],
   "source": [
    "aword= 'hello'\n",
    "bword='there'\n",
    "\n",
    "total = aword + ' ' + bword\n",
    "print(total)\n",
    "\n",
    "repeat = 'hello '*3\n",
    "print(repeat)"
   ]
  },
  {
   "cell_type": "markdown",
   "metadata": {},
   "source": [
    "##### Type Conversion"
   ]
  },
  {
   "cell_type": "code",
   "execution_count": 46,
   "metadata": {},
   "outputs": [
    {
     "name": "stdout",
     "output_type": "stream",
     "text": [
      "<class 'str'>\n",
      "<class 'int'>\n",
      "<class 'float'>\n"
     ]
    }
   ],
   "source": [
    "string_num = '123'\n",
    "print(type(string_num))\n",
    "\n",
    "num = int(string_num)\n",
    "print(type(num))\n",
    "\n",
    "afloat=float(string_num )\n",
    "print(type(afloat))\n",
    "\n",
    "             "
   ]
  },
  {
   "cell_type": "markdown",
   "metadata": {},
   "source": [
    "##### input()"
   ]
  },
  {
   "cell_type": "code",
   "execution_count": 51,
   "metadata": {},
   "outputs": [
    {
     "name": "stdout",
     "output_type": "stream",
     "text": [
      "<class 'int'>\n"
     ]
    }
   ],
   "source": [
    "# name = input(\"what is your name \")\n",
    "# print('hello ' + name)\n",
    "age = int(input(\"how old are you ?\"))\n",
    "print(type(age))\n",
    "# print('you are' + age + \" thats awesome!\")"
   ]
  },
  {
   "cell_type": "markdown",
   "metadata": {},
   "source": [
    "##### format()"
   ]
  },
  {
   "cell_type": "code",
   "execution_count": 55,
   "metadata": {},
   "outputs": [
    {
     "name": "stdout",
     "output_type": "stream",
     "text": [
      "Wow Omar, you are 69, that's awesome!\n"
     ]
    }
   ],
   "source": [
    "age = input(\"how old are you ?\")\n",
    "name = 'Omar'\n",
    "\n",
    "# result = \"Wow {}, you are{}, that's awesome!\".format(name,age)\n",
    "# print(result)\n",
    "\n",
    "result = f\"Wow {name}, you are {age}, that's awesome!\"\n",
    "print(result)"
   ]
  },
  {
   "cell_type": "markdown",
   "metadata": {},
   "source": [
    "# In-Class Exercise 1 <br>\n",
    "<p>Create a format statement that asks for color, year, make, model and prints out the results</p>"
   ]
  },
  {
   "cell_type": "code",
   "execution_count": 61,
   "metadata": {},
   "outputs": [
    {
     "name": "stdout",
     "output_type": "stream",
     "text": [
      "nice, you have a black, 2020, chevy, silverado!\n"
     ]
    }
   ],
   "source": [
    "color = input(\"what color is your car?\")\n",
    "year = \"2020\"\n",
    "make = \"chevy\" \n",
    "model = \"silverado\"\n",
    "\n",
    "result = f\"nice, you have a {color}, {year}, {make}, {model}!\"\n",
    "print(result)"
   ]
  },
  {
   "cell_type": "markdown",
   "metadata": {},
   "source": [
    "### If Statements"
   ]
  },
  {
   "cell_type": "code",
   "execution_count": 69,
   "metadata": {},
   "outputs": [
    {
     "name": "stdout",
     "output_type": "stream",
     "text": [
      "Do not let that guy in.. he is too sick\n",
      "kinda wierd\n",
      "no longer in the if and stilll running\n"
     ]
    }
   ],
   "source": [
    "# Available operators: Greater(>), Less(<),Equal(==)\n",
    "# Greater or Equal(>=), Less or Equal (<=)\n",
    "# you have to remember that the else is not necessary \n",
    "\n",
    "name = 'dylan'\n",
    "\n",
    "# if name == 'omar':\n",
    "#     print(\"Do not let that guy in.. he is too sick\")\n",
    "# elif name == 'dylan':\n",
    "#     print(\"do a jumping jack!\")\n",
    "# else:\n",
    "#     print('that guy is cool, but not thatttt cool')\n",
    "\n",
    "if name == 'dylan':\n",
    "    print(\"Do not let that guy in.. he is too sick\")\n",
    "\n",
    "else:\n",
    "    print('that guy is cool, but not thatttt cool')\n",
    "if 'y' in name:\n",
    "    print(\"kinda wierd\")\n",
    "\n",
    "print('no longer in the if and stilll running')\n",
    "\n",
    "\n",
    "\n"
   ]
  },
  {
   "attachments": {},
   "cell_type": "markdown",
   "metadata": {},
   "source": [
    "##### 'is' keyword - Checks if the value refers to the same object in memory, not if they equal each other"
   ]
  },
  {
   "cell_type": "code",
   "execution_count": 73,
   "metadata": {
    "scrolled": true
   },
   "outputs": [
    {
     "name": "stdout",
     "output_type": "stream",
     "text": [
      "yes\n"
     ]
    }
   ],
   "source": [
    "# itterable - means you can look through or index into each letter \n",
    "num = 50\n",
    "\n",
    "x = 50\n",
    "\n",
    "if num is x:\n",
    "    print(\"yes\")\n",
    "else:\n",
    "    print(\"no\")"
   ]
  },
  {
   "attachments": {},
   "cell_type": "markdown",
   "metadata": {},
   "source": [
    "##### 'in' keyword = used to check if a value is present in a sequence"
   ]
  },
  {
   "cell_type": "code",
   "execution_count": 74,
   "metadata": {},
   "outputs": [
    {
     "name": "stdout",
     "output_type": "stream",
     "text": [
      "y in there\n"
     ]
    }
   ],
   "source": [
    "# membership check - asking does this element exist inside of this variables value\n",
    "# this is case sensitive \n",
    "# it is checking if that element is in the list, sets, and dictionaries\n",
    "\n",
    "name = \"dylan\"\n",
    "\n",
    "if \"y\" in name:\n",
    "    print(\"y in there\")\n",
    "else:\n",
    "    print('y not in there')"
   ]
  },
  {
   "cell_type": "markdown",
   "metadata": {},
   "source": [
    "##### 'not in' keyword'"
   ]
  },
  {
   "cell_type": "code",
   "execution_count": 75,
   "metadata": {},
   "outputs": [
    {
     "name": "stdout",
     "output_type": "stream",
     "text": [
      "y in there\n"
     ]
    }
   ],
   "source": [
    "# the exact opposite\n",
    "\n",
    "name = \"dylan\"\n",
    "\n",
    "if \"y\" in name:\n",
    "    print(\"y not in there\")\n",
    "else:\n",
    "    print('y in there')"
   ]
  },
  {
   "cell_type": "markdown",
   "metadata": {},
   "source": [
    "# In-Class Exercise 2 <br>\n",
    "<p>Ask user for input, check to see if the letter 'p' is in the input</p>"
   ]
  },
  {
   "cell_type": "code",
   "execution_count": 16,
   "metadata": {},
   "outputs": [
    {
     "name": "stdout",
     "output_type": "stream",
     "text": [
      "nah son, p not in there\n"
     ]
    }
   ],
   "source": [
    "name = input('what is your name')\n",
    "\n",
    "if \"p\" in name:\n",
    "    print(\"p in there\")\n",
    "else:\n",
    "    print(\"nah son, p not in there\")\n",
    "    "
   ]
  },
  {
   "cell_type": "markdown",
   "metadata": {},
   "source": [
    "## Using 'and'/'or' with If Statements"
   ]
  },
  {
   "cell_type": "code",
   "execution_count": 86,
   "metadata": {},
   "outputs": [
    {
     "name": "stdout",
     "output_type": "stream",
     "text": [
      "all good\n"
     ]
    }
   ],
   "source": [
    "# Truth Tree:\n",
    "# T and F = F\n",
    "# T and T = T\n",
    "# T or F = T\n",
    "# F or T = T\n",
    "# F or F = F\n",
    "\n",
    "dylan = 'margherita'\n",
    "christian = 'supreme'\n",
    "\n",
    "if dylan == 'margherita'  or christian == 'cheese':\n",
    "    print('all good')\n",
    "else:\n",
    "    print('nope nope')\n"
   ]
  },
  {
   "cell_type": "markdown",
   "metadata": {},
   "source": [
    "### Elif Statements"
   ]
  },
  {
   "cell_type": "code",
   "execution_count": null,
   "metadata": {},
   "outputs": [],
   "source": [
    "#  additional condition should be if not pass!!\n",
    "\n"
   ]
  },
  {
   "cell_type": "markdown",
   "metadata": {},
   "source": [
    "### Else Statements"
   ]
  },
  {
   "cell_type": "code",
   "execution_count": null,
   "metadata": {},
   "outputs": [],
   "source": [
    "# catch all, if no conditions pass!!"
   ]
  },
  {
   "cell_type": "markdown",
   "metadata": {},
   "source": [
    "### For Loops"
   ]
  },
  {
   "cell_type": "code",
   "execution_count": 88,
   "metadata": {},
   "outputs": [
    {
     "name": "stdout",
     "output_type": "stream",
     "text": [
      "o\n",
      "m\n",
      "a\n",
      "r\n",
      "5\n"
     ]
    }
   ],
   "source": [
    "name = \"omar\"\n",
    "\n",
    "count = 1\n",
    "\n",
    "\n",
    "for letter in name:\n",
    "    print(letter)\n",
    "\n",
    "    # lot more logic going on in there ex:\n",
    "    # for every letter in that name it will repeat that loop. \n",
    "\n",
    "    count += 1\n",
    "\n",
    "print(count)\n",
    "\n"
   ]
  },
  {
   "cell_type": "markdown",
   "metadata": {},
   "source": [
    "##### Continue Statement"
   ]
  },
  {
   "cell_type": "code",
   "execution_count": 90,
   "metadata": {},
   "outputs": [
    {
     "name": "stdout",
     "output_type": "stream",
     "text": [
      "o\n",
      "m\n",
      "a\n"
     ]
    }
   ],
   "source": [
    "# will continue to next iteration\n",
    "\n",
    "name = \"omar\"\n",
    "\n",
    "count = 0\n",
    "\n",
    "\n",
    "for letter in name:\n",
    "    if letter =='r':\n",
    "        continue\n",
    "    print(letter)"
   ]
  },
  {
   "cell_type": "markdown",
   "metadata": {},
   "source": [
    "##### Break Statement"
   ]
  },
  {
   "cell_type": "code",
   "execution_count": 93,
   "metadata": {},
   "outputs": [
    {
     "name": "stdout",
     "output_type": "stream",
     "text": [
      "o\n",
      "m\n"
     ]
    }
   ],
   "source": [
    "# will break out of current loop\n",
    "\n",
    "name = \"omar\"\n",
    "\n",
    "count = 0\n",
    "\n",
    "\n",
    "for letter in name:\n",
    "    if letter =='a':\n",
    "        break\n",
    "    print(letter)"
   ]
  },
  {
   "cell_type": "markdown",
   "metadata": {},
   "source": [
    "##### Pass Statement"
   ]
  },
  {
   "cell_type": "code",
   "execution_count": null,
   "metadata": {},
   "outputs": [],
   "source": [
    "# mostly used as a placeholder, and will continue on same iteration\n",
    "# this is good for planning stages or for just setting things up\n",
    "\n",
    "for letter in name:\n",
    "    pass\n",
    "\n",
    "print(1+1)\n",
    "\n",
    "def thisfunc():\n",
    "    pass\n",
    "\n",
    "def thatfunc():\n",
    "    pass\n",
    "\n",
    "\n",
    "# stops you from getting errors"
   ]
  },
  {
   "cell_type": "markdown",
   "metadata": {},
   "source": [
    "##### Double For Loops"
   ]
  },
  {
   "cell_type": "code",
   "execution_count": 94,
   "metadata": {},
   "outputs": [
    {
     "name": "stdout",
     "output_type": "stream",
     "text": [
      "dylan\n",
      "d\n",
      "y\n",
      "l\n",
      "a\n",
      "n\n",
      "oakland\n",
      "o\n",
      "a\n",
      "k\n",
      "l\n",
      "a\n",
      "n\n",
      "d\n",
      "jake \n",
      "j\n",
      "a\n",
      "k\n",
      "e\n",
      " \n",
      "faith\n",
      "f\n",
      "a\n",
      "i\n",
      "t\n",
      "h\n"
     ]
    }
   ],
   "source": [
    "names =['dylan', 'oakland', 'jake ', 'faith']\n",
    "\n",
    "for name in names:\n",
    "    print(name)\n",
    "    for letter in name:\n",
    "        print(letter)"
   ]
  },
  {
   "cell_type": "markdown",
   "metadata": {},
   "source": [
    "### While Loops"
   ]
  },
  {
   "cell_type": "code",
   "execution_count": 99,
   "metadata": {},
   "outputs": [
    {
     "name": "stdout",
     "output_type": "stream",
     "text": [
      "0\n",
      "5\n",
      "10\n",
      "15\n",
      "20\n",
      "25\n"
     ]
    }
   ],
   "source": [
    "# like a blend between for loops and if statements\n",
    "# you need the condition to eventualy fail otherwise itll just go infinately. or you need to break.\n",
    "\n",
    "num=0\n",
    "\n",
    "# while num <= 100:\n",
    "#     print(num)\n",
    "#     num += 5\n",
    "\n",
    "while num<= 100:\n",
    "    print(num) \n",
    "    if num ==25:\n",
    "        break\n",
    "    num +=5\n"
   ]
  },
  {
   "cell_type": "markdown",
   "metadata": {},
   "source": [
    "##### Looping 'While True'"
   ]
  },
  {
   "cell_type": "code",
   "execution_count": 100,
   "metadata": {},
   "outputs": [
    {
     "name": "stdout",
     "output_type": "stream",
     "text": [
      "1\n",
      "2\n",
      "3\n",
      "4\n",
      "5\n",
      "6\n",
      "7\n",
      "8\n",
      "9\n"
     ]
    }
   ],
   "source": [
    "# depends on a break statement \n",
    "# when you have a counter, like a starting number, you have to have it outside of the function.\n",
    "num = 0\n",
    "\n",
    "while True:\n",
    "    num += 1\n",
    "    if num>= 10: \n",
    "        break\n",
    "    print(num)"
   ]
  },
  {
   "cell_type": "markdown",
   "metadata": {},
   "source": [
    "##### While & For Loops Used Together"
   ]
  },
  {
   "cell_type": "code",
   "execution_count": 102,
   "metadata": {},
   "outputs": [
    {
     "name": "stdout",
     "output_type": "stream",
     "text": [
      "Wowwww he's so cool, lets spell his name out\n",
      "C\n",
      "H\n",
      "R\n",
      "I\n",
      "S\n",
      "T\n",
      "I\n",
      "A\n",
      "N\n",
      "Wowwww he's so cool, lets spell his name out\n",
      "C\n",
      "H\n",
      "R\n",
      "I\n",
      "S\n",
      "T\n",
      "I\n",
      "A\n",
      "N\n",
      "Wowwww he's so cool, lets spell his name out\n",
      "C\n",
      "H\n",
      "R\n",
      "I\n",
      "S\n",
      "T\n",
      "I\n",
      "A\n",
      "N\n",
      "Wowwww he's so cool, lets spell his name out\n",
      "C\n",
      "H\n",
      "R\n",
      "I\n",
      "S\n",
      "T\n",
      "I\n",
      "A\n",
      "N\n",
      "Wowwww he's so cool, lets spell his name out\n",
      "C\n",
      "H\n",
      "R\n",
      "I\n",
      "S\n",
      "T\n",
      "I\n",
      "A\n",
      "N\n"
     ]
    }
   ],
   "source": [
    "christian = 'christian'\n",
    "\n",
    "count = 0\n",
    "\n",
    "while christian == 'christian':\n",
    "    print('Wowwww he\\'s so cool, lets spell his name out')\n",
    "    for letter in christian:\n",
    "        print(letter.upper())\n",
    "\n",
    "    count += 1\n",
    "    if count >= 5:\n",
    "        # break\n",
    "        christian = \"not that dope\""
   ]
  },
  {
   "cell_type": "markdown",
   "metadata": {},
   "source": [
    "### Built-In Functions"
   ]
  },
  {
   "cell_type": "markdown",
   "metadata": {},
   "source": [
    "##### range()"
   ]
  },
  {
   "cell_type": "code",
   "execution_count": 106,
   "metadata": {},
   "outputs": [
    {
     "name": "stdout",
     "output_type": "stream",
     "text": [
      "range(0, 10)\n",
      "4\n",
      "6\n",
      "8\n"
     ]
    }
   ],
   "source": [
    "this_range = range(10)\n",
    "\n",
    "print(this_range)\n",
    "\n",
    "for num in range(4, 10, 2):\n",
    "    print(num)\n",
    "\n",
    "    # (start, stop, step) \n",
    "    # you start counting at 0 thats why you get 10 elements \n",
    "    # STEP is in incruments aka the third digit \n",
    "\n",
    "    # "
   ]
  },
  {
   "cell_type": "markdown",
   "metadata": {},
   "source": [
    "##### len()"
   ]
  },
  {
   "cell_type": "code",
   "execution_count": 107,
   "metadata": {},
   "outputs": [
    {
     "name": "stdout",
     "output_type": "stream",
     "text": [
      "5\n"
     ]
    }
   ],
   "source": [
    "#  it jsut tellst you how many elements are included inside the particular variable\n",
    "\n",
    "name = \"dylan\"\n",
    "print(len(name))"
   ]
  },
  {
   "attachments": {},
   "cell_type": "markdown",
   "metadata": {},
   "source": [
    "##### help() -  used to display the documentation of modules, functions, classes, keywords, etc. "
   ]
  },
  {
   "cell_type": "code",
   "execution_count": 108,
   "metadata": {},
   "outputs": [
    {
     "name": "stdout",
     "output_type": "stream",
     "text": [
      "Help on class range in module builtins:\n",
      "\n",
      "class range(object)\n",
      " |  range(stop) -> range object\n",
      " |  range(start, stop[, step]) -> range object\n",
      " |  \n",
      " |  Return an object that produces a sequence of integers from start (inclusive)\n",
      " |  to stop (exclusive) by step.  range(i, j) produces i, i+1, i+2, ..., j-1.\n",
      " |  start defaults to 0, and stop is omitted!  range(4) produces 0, 1, 2, 3.\n",
      " |  These are exactly the valid indices for a list of 4 elements.\n",
      " |  When step is given, it specifies the increment (or decrement).\n",
      " |  \n",
      " |  Methods defined here:\n",
      " |  \n",
      " |  __bool__(self, /)\n",
      " |      True if self else False\n",
      " |  \n",
      " |  __contains__(self, key, /)\n",
      " |      Return key in self.\n",
      " |  \n",
      " |  __eq__(self, value, /)\n",
      " |      Return self==value.\n",
      " |  \n",
      " |  __ge__(self, value, /)\n",
      " |      Return self>=value.\n",
      " |  \n",
      " |  __getattribute__(self, name, /)\n",
      " |      Return getattr(self, name).\n",
      " |  \n",
      " |  __getitem__(self, key, /)\n",
      " |      Return self[key].\n",
      " |  \n",
      " |  __gt__(self, value, /)\n",
      " |      Return self>value.\n",
      " |  \n",
      " |  __hash__(self, /)\n",
      " |      Return hash(self).\n",
      " |  \n",
      " |  __iter__(self, /)\n",
      " |      Implement iter(self).\n",
      " |  \n",
      " |  __le__(self, value, /)\n",
      " |      Return self<=value.\n",
      " |  \n",
      " |  __len__(self, /)\n",
      " |      Return len(self).\n",
      " |  \n",
      " |  __lt__(self, value, /)\n",
      " |      Return self<value.\n",
      " |  \n",
      " |  __ne__(self, value, /)\n",
      " |      Return self!=value.\n",
      " |  \n",
      " |  __reduce__(...)\n",
      " |      Helper for pickle.\n",
      " |  \n",
      " |  __repr__(self, /)\n",
      " |      Return repr(self).\n",
      " |  \n",
      " |  __reversed__(...)\n",
      " |      Return a reverse iterator.\n",
      " |  \n",
      " |  count(...)\n",
      " |      rangeobject.count(value) -> integer -- return number of occurrences of value\n",
      " |  \n",
      " |  index(...)\n",
      " |      rangeobject.index(value) -> integer -- return index of value.\n",
      " |      Raise ValueError if the value is not present.\n",
      " |  \n",
      " |  ----------------------------------------------------------------------\n",
      " |  Static methods defined here:\n",
      " |  \n",
      " |  __new__(*args, **kwargs) from builtins.type\n",
      " |      Create and return a new object.  See help(type) for accurate signature.\n",
      " |  \n",
      " |  ----------------------------------------------------------------------\n",
      " |  Data descriptors defined here:\n",
      " |  \n",
      " |  start\n",
      " |  \n",
      " |  step\n",
      " |  \n",
      " |  stop\n",
      "\n"
     ]
    }
   ],
   "source": [
    "# will give you a short summary of everything you can do with that element / function \n",
    "# if you ever get stuck on something use thsi\n",
    "\n",
    "help(range)"
   ]
  },
  {
   "attachments": {},
   "cell_type": "markdown",
   "metadata": {},
   "source": [
    "##### isinstance() - checks if the object is the type"
   ]
  },
  {
   "cell_type": "code",
   "execution_count": 113,
   "metadata": {},
   "outputs": [
    {
     "name": "stdout",
     "output_type": "stream",
     "text": [
      "happy bday13\n"
     ]
    }
   ],
   "source": [
    "age = 12\n",
    "\n",
    "# print(isinstance(age,int))\n",
    "\n",
    "if isinstance(age,int):\n",
    "    age+=1\n",
    "\n",
    "print('happy bday ' + str(age))\n"
   ]
  },
  {
   "attachments": {},
   "cell_type": "markdown",
   "metadata": {},
   "source": [
    "##### abs() - returns the absolute value"
   ]
  },
  {
   "cell_type": "code",
   "execution_count": 116,
   "metadata": {},
   "outputs": [
    {
     "name": "stdout",
     "output_type": "stream",
     "text": [
      "3\n"
     ]
    }
   ],
   "source": [
    "# this will tell you the value of something wherater it be negatice or possitive \n",
    "\n",
    "num = 2-5\n",
    "\n",
    "print(abs(num))\n"
   ]
  },
  {
   "attachments": {},
   "cell_type": "markdown",
   "metadata": {},
   "source": [
    "### Try and Except Blocks\n",
    "#### try - lets you test a block of code for errors\n",
    "#### except - lets you handle the error"
   ]
  },
  {
   "cell_type": "code",
   "execution_count": 121,
   "metadata": {},
   "outputs": [
    {
     "name": "stdout",
     "output_type": "stream",
     "text": [
      "invalid guess, please use intergers instead\n"
     ]
    }
   ],
   "source": [
    "# this would be a great way to dummy proof your code. it will prompt a message if there is an error. \n",
    "\n",
    "try:\n",
    "    magic_number = 3\n",
    "    guess = int(input('guess a number?'))\n",
    "    if guess == magic_number:\n",
    "        print('woooow you did it fam')\n",
    "    else:\n",
    "        print('wrong')\n",
    "except:\n",
    "    print('invalid guess, please use intergers instead')"
   ]
  },
  {
   "cell_type": "markdown",
   "metadata": {},
   "source": [
    "### Lists"
   ]
  },
  {
   "cell_type": "markdown",
   "metadata": {},
   "source": [
    "##### Declaring Lists"
   ]
  },
  {
   "cell_type": "code",
   "execution_count": 122,
   "metadata": {},
   "outputs": [
    {
     "name": "stdout",
     "output_type": "stream",
     "text": [
      "<class 'list'>\n"
     ]
    }
   ],
   "source": [
    "stus = ['justin', 'jenniffer', 'devan', 'mitchell']\n",
    "\n",
    "print(type(stus))"
   ]
  },
  {
   "cell_type": "markdown",
   "metadata": {},
   "source": [
    "##### Indexing a List"
   ]
  },
  {
   "cell_type": "code",
   "execution_count": 134,
   "metadata": {},
   "outputs": [
    {
     "name": "stdout",
     "output_type": "stream",
     "text": [
      "mitchell\n"
     ]
    }
   ],
   "source": [
    "#  you start counting at 0\n",
    "#        0          1           2           3\n",
    "stus = ['justin', 'jenniffer', 'devan', 'mitchell']\n",
    "#                       -3       -2       -1\n",
    "# this_guy = stus[2]\n",
    "this_guy = stus[-1]\n",
    "print(this_guy)\n"
   ]
  },
  {
   "cell_type": "markdown",
   "metadata": {},
   "source": [
    "##### .append()"
   ]
  },
  {
   "cell_type": "code",
   "execution_count": 135,
   "metadata": {},
   "outputs": [
    {
     "name": "stdout",
     "output_type": "stream",
     "text": [
      "['justin', 'jenniffer', 'devan', 'mitchell', 'marcos']\n"
     ]
    }
   ],
   "source": [
    "# adding to your list\n",
    "\n",
    "stus.append('marcos')\n",
    "\n",
    "print(stus)"
   ]
  },
  {
   "cell_type": "markdown",
   "metadata": {},
   "source": [
    "##### .insert()"
   ]
  },
  {
   "cell_type": "code",
   "execution_count": 136,
   "metadata": {},
   "outputs": [
    {
     "name": "stdout",
     "output_type": "stream",
     "text": [
      "['justin', 'Me', 'jenniffer', 'devan', 'mitchell', 'marcos']\n"
     ]
    }
   ],
   "source": [
    "\n",
    "stus.insert(1, 'Me')\n",
    "\n",
    "print(stus)"
   ]
  },
  {
   "cell_type": "markdown",
   "metadata": {},
   "source": [
    "##### .pop()"
   ]
  },
  {
   "cell_type": "code",
   "execution_count": 137,
   "metadata": {},
   "outputs": [
    {
     "name": "stdout",
     "output_type": "stream",
     "text": [
      "marcos\n",
      "['justin', 'Me', 'jenniffer', 'devan', 'mitchell']\n"
     ]
    }
   ],
   "source": [
    "popped = stus.pop()\n",
    "\n",
    "print(popped)\n",
    "print(stus)"
   ]
  },
  {
   "attachments": {},
   "cell_type": "markdown",
   "metadata": {},
   "source": [
    "\n",
    "##### .remove() - removes element in a list, does not remove duplicates"
   ]
  },
  {
   "cell_type": "code",
   "execution_count": 140,
   "metadata": {},
   "outputs": [
    {
     "name": "stdout",
     "output_type": "stream",
     "text": [
      "['justin', 'Me', 'jenniffer', 'devan', 'mitchell']\n",
      "['justin', 'jenniffer', 'devan', 'mitchell']\n"
     ]
    }
   ],
   "source": [
    "print(stus)\n",
    "\n",
    "stus.remove('Me')\n",
    "\n",
    "print(stus)"
   ]
  },
  {
   "cell_type": "markdown",
   "metadata": {},
   "source": [
    "##### del()"
   ]
  },
  {
   "cell_type": "code",
   "execution_count": 142,
   "metadata": {},
   "outputs": [
    {
     "name": "stdout",
     "output_type": "stream",
     "text": [
      "['justin', 'mitchell']\n"
     ]
    }
   ],
   "source": [
    "del(stus[1])\n",
    "print(stus)"
   ]
  },
  {
   "cell_type": "markdown",
   "metadata": {},
   "source": [
    "##### Concatenating Two Lists"
   ]
  },
  {
   "cell_type": "code",
   "execution_count": 143,
   "metadata": {},
   "outputs": [
    {
     "name": "stdout",
     "output_type": "stream",
     "text": [
      "['christian', 'dylan', 'sam', 'omar']\n"
     ]
    }
   ],
   "source": [
    "l1 = ['christian', 'dylan']\n",
    "l2 = ['sam', 'omar']\n",
    "\n",
    "larger_list = l1 +l2 \n",
    "print(larger_list)"
   ]
  },
  {
   "cell_type": "markdown",
   "metadata": {},
   "source": [
    "##### Lists Within Lists"
   ]
  },
  {
   "cell_type": "code",
   "execution_count": 146,
   "metadata": {},
   "outputs": [
    {
     "name": "stdout",
     "output_type": "stream",
     "text": [
      "[['Christian', 'Dylan'], 'Jake', 'Britt', 'Mitchell', 'Oackland']\n",
      "a\n"
     ]
    }
   ],
   "source": [
    "roster = [['Christian', 'Dylan'], 'Jake', 'Britt', 'Mitchell', 'Oackland']\n",
    "print(roster)\n",
    "\n",
    "# print(roster[0][1][3])\n",
    "# this will print 'a'\n",
    "# remember index starts at 0"
   ]
  },
  {
   "cell_type": "markdown",
   "metadata": {},
   "source": [
    "##### Looping Through Lists"
   ]
  },
  {
   "cell_type": "code",
   "execution_count": 147,
   "metadata": {},
   "outputs": [
    {
     "name": "stdout",
     "output_type": "stream",
     "text": [
      "['Christian', 'Dylan']\n",
      "Jake\n",
      "Britt\n",
      "Mitchell\n",
      "Oackland\n"
     ]
    }
   ],
   "source": [
    "for student in roster:\n",
    "    print(student)"
   ]
  },
  {
   "cell_type": "markdown",
   "metadata": {},
   "source": [
    "## Exercise #1 <br>\n",
    "<p>Cube Number Test... Print out all cubed numbers up to the total value 1000. Meaning that if the cubed number is over 1000 break the loop.</p>"
   ]
  },
  {
   "cell_type": "code",
   "execution_count": 25,
   "metadata": {},
   "outputs": [
    {
     "name": "stdout",
     "output_type": "stream",
     "text": [
      "1\n",
      "8\n",
      "27\n",
      "64\n",
      "125\n",
      "216\n",
      "343\n",
      "512\n",
      "729\n",
      "1000\n"
     ]
    }
   ],
   "source": [
    "# cubed numbers are **3\n",
    "# so to print all cubed numbers totaling up to 1000 run a loop\n",
    "# check loop for every number in list, starting at 1, and then add 1 and run through loop again\n",
    "# break means stop, stop means no longer runs loop, so if >1000 end or =<1000\n",
    "# while loops keep iterating until it meets criteria\n",
    "# you need the condition to eventualy fail otherwise itll just go infinately. or you need to break.\n",
    "# lol - this runs infinately if not indented \n",
    "\n",
    "#rename to make easier to read\n",
    "\n",
    "# start_num = 1\n",
    " \n",
    "# while start_num ** 3 <= 1000:\n",
    "#     cube = start_num ** 3\n",
    "#     print(cube)\n",
    "#     start_num += 1 need the + and = sign, will not work if you just use + \n",
    "# sorry Dylan or whoever is reading this this is how i get my brain to remember stuff!\n",
    "\n",
    "num = 1\n",
    "\n",
    "while num **3 <= 1000:\n",
    "    cube = num **3\n",
    "    print(cube)\n",
    "    num +=1\n",
    "\n"
   ]
  },
  {
   "cell_type": "markdown",
   "metadata": {},
   "source": [
    "## Exercise #2 <br>\n",
    "<p>Get first prime numbers up to 100</p>"
   ]
  },
  {
   "cell_type": "code",
   "execution_count": 18,
   "metadata": {},
   "outputs": [
    {
     "ename": "SyntaxError",
     "evalue": "invalid syntax (2648822416.py, line 14)",
     "output_type": "error",
     "traceback": [
      "\u001b[1;36m  Cell \u001b[1;32mIn[18], line 14\u001b[1;36m\u001b[0m\n\u001b[1;33m    in range(1-100):\u001b[0m\n\u001b[1;37m    ^\u001b[0m\n\u001b[1;31mSyntaxError\u001b[0m\u001b[1;31m:\u001b[0m invalid syntax\n"
     ]
    }
   ],
   "source": [
    "# HINT:  figure out how the pattern of prime numbers are \n",
    "# An else after an if runs if the if didn’t\n",
    "# An else after a for runs if the for didn’t break\n",
    "# prime numbers divisible by any number other than 1 and itself.\n",
    "# divisible. means we have to check each number if its prime.\n",
    "# so two steps? -\n",
    "# searching for prime numbers up to 100 so \n",
    "# find range up to 100.. # (start, stop, step) for range() will that have something to do with it?\n",
    "\n",
    "# need to check each number in range - loop through list\n",
    "\n",
    "prime_numbers = []\n",
    "\n",
    "if num <=1:\n",
    "    for num in range(1, 100, dividible by2?):\n",
    "        print()\n",
    "\n",
    "if prime = True \n",
    "    print()"
   ]
  },
  {
   "cell_type": "markdown",
   "metadata": {},
   "source": [
    "# Exercise 3 <br>\n",
    "<p>Take in a users input for their age, if they are younger than 18 print kids, if they're 18 to 65 print adults, else print seniors</p>"
   ]
  },
  {
   "cell_type": "code",
   "execution_count": 17,
   "metadata": {},
   "outputs": [
    {
     "name": "stdout",
     "output_type": "stream",
     "text": [
      "Adult\n"
     ]
    }
   ],
   "source": [
    "# if elif - int on outside of input not inside \n",
    "# <18 kids\n",
    "# +18-65 adults so <=65 is adult\n",
    "# else seniors \n",
    "# elif first before else. but if statement first \n",
    "\n",
    "\n",
    "\n",
    "age = int(input(\"How old are you?\"))\n",
    "\n",
    "if age < 18:\n",
    "    print(\"Kids\")\n",
    "elif age <=65:\n",
    "    print(\"Adult\")\n",
    "else:\n",
    "    print(\"senior\")\n",
    "\n",
    "\n",
    "\n",
    "\n",
    "\n"
   ]
  }
 ],
 "metadata": {
  "kernelspec": {
   "display_name": "Python 3",
   "language": "python",
   "name": "python3"
  },
  "language_info": {
   "codemirror_mode": {
    "name": "ipython",
    "version": 3
   },
   "file_extension": ".py",
   "mimetype": "text/x-python",
   "name": "python",
   "nbconvert_exporter": "python",
   "pygments_lexer": "ipython3",
   "version": "3.11.4"
  },
  "vscode": {
   "interpreter": {
    "hash": "aa82987a71ca0339a52998cd22613b0c002bda8349fa32a0cb67ceec3936a2bf"
   }
  }
 },
 "nbformat": 4,
 "nbformat_minor": 2
}
